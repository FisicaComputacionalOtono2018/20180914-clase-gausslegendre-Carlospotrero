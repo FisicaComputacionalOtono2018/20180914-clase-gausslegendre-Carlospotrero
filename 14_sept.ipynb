{
  "nbformat": 4,
  "nbformat_minor": 0,
  "metadata": {
    "colab": {
      "name": "14 sept.ipynb",
      "version": "0.3.2",
      "provenance": []
    },
    "kernelspec": {
      "name": "python3",
      "display_name": "Python 3"
    }
  },
  "cells": [
    {
      "metadata": {
        "id": "JAi0Gh4BCKUe",
        "colab_type": "code",
        "colab": {}
      },
      "cell_type": "code",
      "source": [
        "from sympy import *\n",
        "x = Symbol('x')\n",
        "\n",
        "def f(n):\n",
        "  u = 1\n",
        "  for i in range(1, n+1):\n",
        "    u = u*i\n",
        "  return u\n",
        "\n",
        "def w(n, x):\n",
        "  c = (1*2**-n)*f(n)**-1\n",
        "  d = c*diff(((x**2)-1)**n, x, n)\n",
        "  return 2/((1-x**2)*diff(d)**2)\n",
        "\n",
        "def polinomio(coeficientes, x):\n",
        "  potencia = 0\n",
        "  funcion = 0\n",
        "  for i in coeficientes:\n",
        "    funcion = funcion + float(i)*x**potencia\n",
        "    poptencia = potencia+1\n",
        "  return funcion\n",
        "\n",
        "coeficientes = [0, 0, 2, 1]\n",
        "n = int(input(\"Grado del polinoimio: \"))\n",
        "v = [0.1, 0.57]\n",
        "\n",
        "for i in v:\n",
        "  sum = sum+(w(n, x).subs(x, i))*((polinomio(coeficientes, x).subs(x, i)))\n",
        "\n",
        "  print(sum)"
      ],
      "execution_count": 0,
      "outputs": []
    }
  ]
}